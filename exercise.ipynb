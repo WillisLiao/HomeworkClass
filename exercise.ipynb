{
 "cells": [
  {
   "cell_type": "code",
   "execution_count": 1,
   "metadata": {},
   "outputs": [
    {
     "name": "stdout",
     "output_type": "stream",
     "text": [
      "Current path: c:\\Users\\willi\\HomeworkClass\n"
     ]
    }
   ],
   "source": [
    "import os\n",
    "print(\"Current path: {}\".format(os.getcwd()))"
   ]
  },
  {
   "cell_type": "code",
   "execution_count": 2,
   "metadata": {},
   "outputs": [
    {
     "name": "stdout",
     "output_type": "stream",
     "text": [
      "c:\\Users\\willi\\HomeworkClass\n"
     ]
    }
   ],
   "source": [
    "print(os.path.abspath('.'))"
   ]
  },
  {
   "cell_type": "code",
   "execution_count": 3,
   "metadata": {},
   "outputs": [
    {
     "name": "stdout",
     "output_type": "stream",
     "text": [
      "c:\\Users\\willi\n"
     ]
    }
   ],
   "source": [
    "print(os.path.abspath('..'))"
   ]
  },
  {
   "cell_type": "code",
   "execution_count": 4,
   "metadata": {},
   "outputs": [
    {
     "name": "stdout",
     "output_type": "stream",
     "text": [
      "c:\\Users\\willi\\HomeworkClass\\exercise0304.py\n"
     ]
    }
   ],
   "source": [
    "print(os.path.abspath('exercise0304.py'))"
   ]
  },
  {
   "cell_type": "code",
   "execution_count": 5,
   "metadata": {},
   "outputs": [
    {
     "name": "stdout",
     "output_type": "stream",
     "text": [
      "..\\..\\..\n"
     ]
    }
   ],
   "source": [
    "print(os.path.relpath('C:\\\\'))"
   ]
  },
  {
   "cell_type": "code",
   "execution_count": 6,
   "metadata": {},
   "outputs": [
    {
     "name": "stdout",
     "output_type": "stream",
     "text": [
      "..\\..\n"
     ]
    }
   ],
   "source": [
    "print(os.path.relpath('C:\\\\Users'))"
   ]
  },
  {
   "cell_type": "code",
   "execution_count": 7,
   "metadata": {},
   "outputs": [
    {
     "name": "stdout",
     "output_type": "stream",
     "text": [
      "..\\..\\..\\..\n"
     ]
    }
   ],
   "source": [
    "print(os.path.relpath('C:\\\\', 'exercise0304.py'))"
   ]
  },
  {
   "cell_type": "code",
   "execution_count": 9,
   "metadata": {},
   "outputs": [
    {
     "name": "stdout",
     "output_type": "stream",
     "text": [
      "..\\Willis Liao\n"
     ]
    }
   ],
   "source": [
    "print(os.path.relpath('Willis Liao', 'exercise0304.py'))"
   ]
  },
  {
   "cell_type": "code",
   "execution_count": 10,
   "metadata": {},
   "outputs": [
    {
     "name": "stdout",
     "output_type": "stream",
     "text": [
      "folder Testfold - 00 has been created!!\n",
      "Done!\n",
      "folder Testfold - 01 has been created!!\n",
      "Done!\n",
      "folder Testfold - 02 has been created!!\n",
      "Done!\n",
      "folder Testfold - 03 has been created!!\n",
      "Done!\n",
      "folder Testfold - 04 has been created!!\n",
      "Done!\n",
      "folder Testfold - 05 has been created!!\n",
      "Done!\n",
      "folder Testfold - 06 has been created!!\n",
      "Done!\n",
      "folder Testfold - 07 has been created!!\n",
      "Done!\n",
      "folder Testfold - 08 has been created!!\n",
      "Done!\n",
      "folder Testfold - 09 has been created!!\n",
      "Done!\n",
      "folder Testfold - 10 has been created!!\n",
      "Done!\n",
      "folder Testfold - 11 has been created!!\n",
      "Done!\n"
     ]
    }
   ],
   "source": [
    "newDir = 'Testfold'\n",
    "for i in range(12):\n",
    "    foldName = \"{} - {:02d}\".format(newDir, i)\n",
    "    if os.path.exists(foldName):\n",
    "        print(\"{} fold is existed!\".format(foldName))\n",
    "    else:\n",
    "        os.mkdir(foldName)\n",
    "        print(\"folder {} has been created!!\".format(foldName))\n",
    "    print('Done!')"
   ]
  },
  {
   "cell_type": "code",
   "execution_count": 11,
   "metadata": {},
   "outputs": [
    {
     "name": "stdout",
     "output_type": "stream",
     "text": [
      "folderTestFold - 00 has been deleted!\n",
      "folderTestFold - 01 has been deleted!\n",
      "folderTestFold - 02 has been deleted!\n",
      "folderTestFold - 03 has been deleted!\n",
      "folderTestFold - 04 has been deleted!\n",
      "folderTestFold - 05 has been deleted!\n",
      "folderTestFold - 06 has been deleted!\n",
      "folderTestFold - 07 has been deleted!\n",
      "folderTestFold - 08 has been deleted!\n",
      "folderTestFold - 09 has been deleted!\n",
      "folderTestFold - 10 has been deleted!\n",
      "folderTestFold - 11 has been deleted!\n",
      "Done!\n"
     ]
    }
   ],
   "source": [
    "newDir = 'TestFold'\n",
    "for i in range(12):\n",
    "    foldName = \"{} - {:02d}\".format(newDir, i)\n",
    "    if os.path.exists(foldName):\n",
    "        os.rmdir(foldName)\n",
    "        print(f\"folder{foldName} has been deleted!\")\n",
    "\n",
    "    else:\n",
    "        print(f\"{foldName} fold is not existed\".format(foldName))\n",
    "print('Done!')"
   ]
  }
 ],
 "metadata": {
  "interpreter": {
   "hash": "6a13449f347f4fcfad9466f01174e485f20d8992999a0c2061558250e1d689d7"
  },
  "kernelspec": {
   "display_name": "Python 3.8.8 ('base')",
   "language": "python",
   "name": "python3"
  },
  "language_info": {
   "codemirror_mode": {
    "name": "ipython",
    "version": 3
   },
   "file_extension": ".py",
   "mimetype": "text/x-python",
   "name": "python",
   "nbconvert_exporter": "python",
   "pygments_lexer": "ipython3",
   "version": "3.8.8"
  },
  "orig_nbformat": 4
 },
 "nbformat": 4,
 "nbformat_minor": 2
}
